{
 "cells": [
  {
   "cell_type": "code",
   "execution_count": 2,
   "id": "catholic-pound",
   "metadata": {},
   "outputs": [
    {
     "name": "stdout",
     "output_type": "stream",
     "text": [
      "Note: you may need to restart the kernel to use updated packages.\n",
      "Note: you may need to restart the kernel to use updated packages.\n",
      "Note: you may need to restart the kernel to use updated packages.\n",
      "Note: you may need to restart the kernel to use updated packages.\n"
     ]
    }
   ],
   "source": [
    "%pip install -q numpy\n",
    "%pip install -q pandas\n",
    "%pip install -q seaborn\n",
    "%pip install -q matplotlib"
   ]
  },
  {
   "cell_type": "code",
   "execution_count": 3,
   "id": "gothic-stone",
   "metadata": {},
   "outputs": [
    {
     "name": "stdout",
     "output_type": "stream",
     "text": [
      "Modules are imported.\n"
     ]
    }
   ],
   "source": [
    "import pandas as pd \n",
    "import numpy as np \n",
    "import seaborn as sns\n",
    "import matplotlib.pyplot as plt\n",
    "\n",
    "print('Modules are imported.')"
   ]
  },
  {
   "cell_type": "markdown",
   "id": "related-ukraine",
   "metadata": {},
   "source": [
    "## Task 2\n",
    "\n",
    "### Task 2.1: importing covid19 data\n",
    "\n",
    "Importing \"time_series_confirmed_global.csv\" from \"./data\" folder."
   ]
  },
  {
   "cell_type": "code",
   "execution_count": 4,
   "id": "differential-request",
   "metadata": {},
   "outputs": [
    {
     "data": {
      "text/html": [
       "<div>\n",
       "<style scoped>\n",
       "    .dataframe tbody tr th:only-of-type {\n",
       "        vertical-align: middle;\n",
       "    }\n",
       "\n",
       "    .dataframe tbody tr th {\n",
       "        vertical-align: top;\n",
       "    }\n",
       "\n",
       "    .dataframe thead th {\n",
       "        text-align: right;\n",
       "    }\n",
       "</style>\n",
       "<table border=\"1\" class=\"dataframe\">\n",
       "  <thead>\n",
       "    <tr style=\"text-align: right;\">\n",
       "      <th></th>\n",
       "      <th>id</th>\n",
       "      <th>province_state</th>\n",
       "      <th>country_region</th>\n",
       "      <th>latitude</th>\n",
       "      <th>longitude</th>\n",
       "      <th>jan222020</th>\n",
       "      <th>jan232020</th>\n",
       "      <th>jan242020</th>\n",
       "      <th>jan252020</th>\n",
       "      <th>jan262020</th>\n",
       "      <th>...</th>\n",
       "      <th>feb012021</th>\n",
       "      <th>feb022021</th>\n",
       "      <th>feb032021</th>\n",
       "      <th>feb042021</th>\n",
       "      <th>feb052021</th>\n",
       "      <th>feb062021</th>\n",
       "      <th>feb072021</th>\n",
       "      <th>feb082021</th>\n",
       "      <th>feb092021</th>\n",
       "      <th>feb102021</th>\n",
       "    </tr>\n",
       "  </thead>\n",
       "  <tbody>\n",
       "    <tr>\n",
       "      <th>0</th>\n",
       "      <td>0</td>\n",
       "      <td>0</td>\n",
       "      <td>Afghanistan</td>\n",
       "      <td>33.93911</td>\n",
       "      <td>67.709953</td>\n",
       "      <td>0</td>\n",
       "      <td>0</td>\n",
       "      <td>0</td>\n",
       "      <td>0</td>\n",
       "      <td>0</td>\n",
       "      <td>...</td>\n",
       "      <td>55059</td>\n",
       "      <td>55121</td>\n",
       "      <td>55174</td>\n",
       "      <td>55231</td>\n",
       "      <td>55265</td>\n",
       "      <td>55330</td>\n",
       "      <td>55335</td>\n",
       "      <td>55359</td>\n",
       "      <td>55384</td>\n",
       "      <td>55402</td>\n",
       "    </tr>\n",
       "    <tr>\n",
       "      <th>1</th>\n",
       "      <td>1</td>\n",
       "      <td>0</td>\n",
       "      <td>Albania</td>\n",
       "      <td>41.15330</td>\n",
       "      <td>20.168300</td>\n",
       "      <td>0</td>\n",
       "      <td>0</td>\n",
       "      <td>0</td>\n",
       "      <td>0</td>\n",
       "      <td>0</td>\n",
       "      <td>...</td>\n",
       "      <td>78992</td>\n",
       "      <td>79934</td>\n",
       "      <td>80941</td>\n",
       "      <td>81993</td>\n",
       "      <td>83082</td>\n",
       "      <td>84212</td>\n",
       "      <td>85336</td>\n",
       "      <td>86289</td>\n",
       "      <td>87528</td>\n",
       "      <td>88671</td>\n",
       "    </tr>\n",
       "    <tr>\n",
       "      <th>2</th>\n",
       "      <td>2</td>\n",
       "      <td>0</td>\n",
       "      <td>Algeria</td>\n",
       "      <td>28.03390</td>\n",
       "      <td>1.659600</td>\n",
       "      <td>0</td>\n",
       "      <td>0</td>\n",
       "      <td>0</td>\n",
       "      <td>0</td>\n",
       "      <td>0</td>\n",
       "      <td>...</td>\n",
       "      <td>107578</td>\n",
       "      <td>107841</td>\n",
       "      <td>108116</td>\n",
       "      <td>108381</td>\n",
       "      <td>108629</td>\n",
       "      <td>108629</td>\n",
       "      <td>109088</td>\n",
       "      <td>109313</td>\n",
       "      <td>109559</td>\n",
       "      <td>109782</td>\n",
       "    </tr>\n",
       "    <tr>\n",
       "      <th>3</th>\n",
       "      <td>3</td>\n",
       "      <td>0</td>\n",
       "      <td>Andorra</td>\n",
       "      <td>42.50630</td>\n",
       "      <td>1.521800</td>\n",
       "      <td>0</td>\n",
       "      <td>0</td>\n",
       "      <td>0</td>\n",
       "      <td>0</td>\n",
       "      <td>0</td>\n",
       "      <td>...</td>\n",
       "      <td>9972</td>\n",
       "      <td>10017</td>\n",
       "      <td>10070</td>\n",
       "      <td>10137</td>\n",
       "      <td>10172</td>\n",
       "      <td>10206</td>\n",
       "      <td>10251</td>\n",
       "      <td>10275</td>\n",
       "      <td>10312</td>\n",
       "      <td>10352</td>\n",
       "    </tr>\n",
       "    <tr>\n",
       "      <th>4</th>\n",
       "      <td>4</td>\n",
       "      <td>0</td>\n",
       "      <td>Angola</td>\n",
       "      <td>-11.20270</td>\n",
       "      <td>17.873900</td>\n",
       "      <td>0</td>\n",
       "      <td>0</td>\n",
       "      <td>0</td>\n",
       "      <td>0</td>\n",
       "      <td>0</td>\n",
       "      <td>...</td>\n",
       "      <td>19829</td>\n",
       "      <td>19900</td>\n",
       "      <td>19937</td>\n",
       "      <td>19996</td>\n",
       "      <td>20030</td>\n",
       "      <td>20062</td>\n",
       "      <td>20086</td>\n",
       "      <td>20112</td>\n",
       "      <td>20163</td>\n",
       "      <td>20210</td>\n",
       "    </tr>\n",
       "  </tbody>\n",
       "</table>\n",
       "<p>5 rows × 391 columns</p>\n",
       "</div>"
      ],
      "text/plain": [
       "   id province_state country_region  latitude  longitude  jan222020  \\\n",
       "0   0              0    Afghanistan  33.93911  67.709953          0   \n",
       "1   1              0        Albania  41.15330  20.168300          0   \n",
       "2   2              0        Algeria  28.03390   1.659600          0   \n",
       "3   3              0        Andorra  42.50630   1.521800          0   \n",
       "4   4              0         Angola -11.20270  17.873900          0   \n",
       "\n",
       "   jan232020  jan242020  jan252020  jan262020  ...  feb012021  feb022021  \\\n",
       "0          0          0          0          0  ...      55059      55121   \n",
       "1          0          0          0          0  ...      78992      79934   \n",
       "2          0          0          0          0  ...     107578     107841   \n",
       "3          0          0          0          0  ...       9972      10017   \n",
       "4          0          0          0          0  ...      19829      19900   \n",
       "\n",
       "   feb032021  feb042021  feb052021  feb062021  feb072021  feb082021  \\\n",
       "0      55174      55231      55265      55330      55335      55359   \n",
       "1      80941      81993      83082      84212      85336      86289   \n",
       "2     108116     108381     108629     108629     109088     109313   \n",
       "3      10070      10137      10172      10206      10251      10275   \n",
       "4      19937      19996      20030      20062      20086      20112   \n",
       "\n",
       "   feb092021  feb102021  \n",
       "0      55384      55402  \n",
       "1      87528      88671  \n",
       "2     109559     109782  \n",
       "3      10312      10352  \n",
       "4      20163      20210  \n",
       "\n",
       "[5 rows x 391 columns]"
      ]
     },
     "execution_count": 4,
     "metadata": {},
     "output_type": "execute_result"
    }
   ],
   "source": [
    "covid_dataset_csv = pd.read_csv(\"data/time_series_confirmed_global.csv\", sep='\\t')\n",
    "covid_dataset_csv.head()"
   ]
  },
  {
   "cell_type": "markdown",
   "id": "marked-declaration",
   "metadata": {},
   "source": [
    "### Check the shape of the dataframe"
   ]
  },
  {
   "cell_type": "code",
   "execution_count": 5,
   "id": "manual-playlist",
   "metadata": {},
   "outputs": [
    {
     "data": {
      "text/plain": [
       "(273, 391)"
      ]
     },
     "execution_count": 5,
     "metadata": {},
     "output_type": "execute_result"
    }
   ],
   "source": [
    "covid_dataset_csv.shape"
   ]
  },
  {
   "cell_type": "markdown",
   "id": "cutting-onion",
   "metadata": {},
   "source": [
    "### Task 2.2: Delete the unused columns"
   ]
  },
  {
   "cell_type": "code",
   "execution_count": 6,
   "id": "separate-hartford",
   "metadata": {},
   "outputs": [],
   "source": [
    "covid_dataset_csv.drop([\"province_state\", \"latitude\", \"longitude\"], axis=1, inplace=True)"
   ]
  },
  {
   "cell_type": "code",
   "execution_count": 7,
   "id": "oriented-syria",
   "metadata": {},
   "outputs": [
    {
     "data": {
      "text/html": [
       "<div>\n",
       "<style scoped>\n",
       "    .dataframe tbody tr th:only-of-type {\n",
       "        vertical-align: middle;\n",
       "    }\n",
       "\n",
       "    .dataframe tbody tr th {\n",
       "        vertical-align: top;\n",
       "    }\n",
       "\n",
       "    .dataframe thead th {\n",
       "        text-align: right;\n",
       "    }\n",
       "</style>\n",
       "<table border=\"1\" class=\"dataframe\">\n",
       "  <thead>\n",
       "    <tr style=\"text-align: right;\">\n",
       "      <th></th>\n",
       "      <th>id</th>\n",
       "      <th>country_region</th>\n",
       "      <th>jan222020</th>\n",
       "      <th>jan232020</th>\n",
       "      <th>jan242020</th>\n",
       "      <th>jan252020</th>\n",
       "      <th>jan262020</th>\n",
       "      <th>jan272020</th>\n",
       "      <th>jan282020</th>\n",
       "      <th>jan292020</th>\n",
       "      <th>...</th>\n",
       "      <th>feb012021</th>\n",
       "      <th>feb022021</th>\n",
       "      <th>feb032021</th>\n",
       "      <th>feb042021</th>\n",
       "      <th>feb052021</th>\n",
       "      <th>feb062021</th>\n",
       "      <th>feb072021</th>\n",
       "      <th>feb082021</th>\n",
       "      <th>feb092021</th>\n",
       "      <th>feb102021</th>\n",
       "    </tr>\n",
       "  </thead>\n",
       "  <tbody>\n",
       "    <tr>\n",
       "      <th>0</th>\n",
       "      <td>0</td>\n",
       "      <td>Afghanistan</td>\n",
       "      <td>0</td>\n",
       "      <td>0</td>\n",
       "      <td>0</td>\n",
       "      <td>0</td>\n",
       "      <td>0</td>\n",
       "      <td>0</td>\n",
       "      <td>0</td>\n",
       "      <td>0</td>\n",
       "      <td>...</td>\n",
       "      <td>55059</td>\n",
       "      <td>55121</td>\n",
       "      <td>55174</td>\n",
       "      <td>55231</td>\n",
       "      <td>55265</td>\n",
       "      <td>55330</td>\n",
       "      <td>55335</td>\n",
       "      <td>55359</td>\n",
       "      <td>55384</td>\n",
       "      <td>55402</td>\n",
       "    </tr>\n",
       "    <tr>\n",
       "      <th>1</th>\n",
       "      <td>1</td>\n",
       "      <td>Albania</td>\n",
       "      <td>0</td>\n",
       "      <td>0</td>\n",
       "      <td>0</td>\n",
       "      <td>0</td>\n",
       "      <td>0</td>\n",
       "      <td>0</td>\n",
       "      <td>0</td>\n",
       "      <td>0</td>\n",
       "      <td>...</td>\n",
       "      <td>78992</td>\n",
       "      <td>79934</td>\n",
       "      <td>80941</td>\n",
       "      <td>81993</td>\n",
       "      <td>83082</td>\n",
       "      <td>84212</td>\n",
       "      <td>85336</td>\n",
       "      <td>86289</td>\n",
       "      <td>87528</td>\n",
       "      <td>88671</td>\n",
       "    </tr>\n",
       "    <tr>\n",
       "      <th>2</th>\n",
       "      <td>2</td>\n",
       "      <td>Algeria</td>\n",
       "      <td>0</td>\n",
       "      <td>0</td>\n",
       "      <td>0</td>\n",
       "      <td>0</td>\n",
       "      <td>0</td>\n",
       "      <td>0</td>\n",
       "      <td>0</td>\n",
       "      <td>0</td>\n",
       "      <td>...</td>\n",
       "      <td>107578</td>\n",
       "      <td>107841</td>\n",
       "      <td>108116</td>\n",
       "      <td>108381</td>\n",
       "      <td>108629</td>\n",
       "      <td>108629</td>\n",
       "      <td>109088</td>\n",
       "      <td>109313</td>\n",
       "      <td>109559</td>\n",
       "      <td>109782</td>\n",
       "    </tr>\n",
       "    <tr>\n",
       "      <th>3</th>\n",
       "      <td>3</td>\n",
       "      <td>Andorra</td>\n",
       "      <td>0</td>\n",
       "      <td>0</td>\n",
       "      <td>0</td>\n",
       "      <td>0</td>\n",
       "      <td>0</td>\n",
       "      <td>0</td>\n",
       "      <td>0</td>\n",
       "      <td>0</td>\n",
       "      <td>...</td>\n",
       "      <td>9972</td>\n",
       "      <td>10017</td>\n",
       "      <td>10070</td>\n",
       "      <td>10137</td>\n",
       "      <td>10172</td>\n",
       "      <td>10206</td>\n",
       "      <td>10251</td>\n",
       "      <td>10275</td>\n",
       "      <td>10312</td>\n",
       "      <td>10352</td>\n",
       "    </tr>\n",
       "    <tr>\n",
       "      <th>4</th>\n",
       "      <td>4</td>\n",
       "      <td>Angola</td>\n",
       "      <td>0</td>\n",
       "      <td>0</td>\n",
       "      <td>0</td>\n",
       "      <td>0</td>\n",
       "      <td>0</td>\n",
       "      <td>0</td>\n",
       "      <td>0</td>\n",
       "      <td>0</td>\n",
       "      <td>...</td>\n",
       "      <td>19829</td>\n",
       "      <td>19900</td>\n",
       "      <td>19937</td>\n",
       "      <td>19996</td>\n",
       "      <td>20030</td>\n",
       "      <td>20062</td>\n",
       "      <td>20086</td>\n",
       "      <td>20112</td>\n",
       "      <td>20163</td>\n",
       "      <td>20210</td>\n",
       "    </tr>\n",
       "    <tr>\n",
       "      <th>5</th>\n",
       "      <td>5</td>\n",
       "      <td>Antigua and Barbuda</td>\n",
       "      <td>0</td>\n",
       "      <td>0</td>\n",
       "      <td>0</td>\n",
       "      <td>0</td>\n",
       "      <td>0</td>\n",
       "      <td>0</td>\n",
       "      <td>0</td>\n",
       "      <td>0</td>\n",
       "      <td>...</td>\n",
       "      <td>234</td>\n",
       "      <td>249</td>\n",
       "      <td>249</td>\n",
       "      <td>268</td>\n",
       "      <td>277</td>\n",
       "      <td>288</td>\n",
       "      <td>299</td>\n",
       "      <td>316</td>\n",
       "      <td>316</td>\n",
       "      <td>350</td>\n",
       "    </tr>\n",
       "    <tr>\n",
       "      <th>6</th>\n",
       "      <td>6</td>\n",
       "      <td>Argentina</td>\n",
       "      <td>0</td>\n",
       "      <td>0</td>\n",
       "      <td>0</td>\n",
       "      <td>0</td>\n",
       "      <td>0</td>\n",
       "      <td>0</td>\n",
       "      <td>0</td>\n",
       "      <td>0</td>\n",
       "      <td>...</td>\n",
       "      <td>1933853</td>\n",
       "      <td>1943548</td>\n",
       "      <td>1952744</td>\n",
       "      <td>1961635</td>\n",
       "      <td>1970009</td>\n",
       "      <td>1976689</td>\n",
       "      <td>1980347</td>\n",
       "      <td>1985501</td>\n",
       "      <td>1993295</td>\n",
       "      <td>2001034</td>\n",
       "    </tr>\n",
       "    <tr>\n",
       "      <th>7</th>\n",
       "      <td>7</td>\n",
       "      <td>Armenia</td>\n",
       "      <td>0</td>\n",
       "      <td>0</td>\n",
       "      <td>0</td>\n",
       "      <td>0</td>\n",
       "      <td>0</td>\n",
       "      <td>0</td>\n",
       "      <td>0</td>\n",
       "      <td>0</td>\n",
       "      <td>...</td>\n",
       "      <td>167088</td>\n",
       "      <td>167231</td>\n",
       "      <td>167421</td>\n",
       "      <td>167568</td>\n",
       "      <td>167726</td>\n",
       "      <td>167937</td>\n",
       "      <td>168088</td>\n",
       "      <td>168177</td>\n",
       "      <td>168300</td>\n",
       "      <td>168496</td>\n",
       "    </tr>\n",
       "    <tr>\n",
       "      <th>8</th>\n",
       "      <td>8</td>\n",
       "      <td>Australia</td>\n",
       "      <td>0</td>\n",
       "      <td>0</td>\n",
       "      <td>0</td>\n",
       "      <td>0</td>\n",
       "      <td>0</td>\n",
       "      <td>0</td>\n",
       "      <td>0</td>\n",
       "      <td>0</td>\n",
       "      <td>...</td>\n",
       "      <td>118</td>\n",
       "      <td>118</td>\n",
       "      <td>118</td>\n",
       "      <td>118</td>\n",
       "      <td>118</td>\n",
       "      <td>118</td>\n",
       "      <td>118</td>\n",
       "      <td>118</td>\n",
       "      <td>118</td>\n",
       "      <td>118</td>\n",
       "    </tr>\n",
       "    <tr>\n",
       "      <th>9</th>\n",
       "      <td>9</td>\n",
       "      <td>Australia</td>\n",
       "      <td>0</td>\n",
       "      <td>0</td>\n",
       "      <td>0</td>\n",
       "      <td>0</td>\n",
       "      <td>3</td>\n",
       "      <td>4</td>\n",
       "      <td>4</td>\n",
       "      <td>4</td>\n",
       "      <td>...</td>\n",
       "      <td>5112</td>\n",
       "      <td>5114</td>\n",
       "      <td>5117</td>\n",
       "      <td>5117</td>\n",
       "      <td>5119</td>\n",
       "      <td>5120</td>\n",
       "      <td>5123</td>\n",
       "      <td>5125</td>\n",
       "      <td>5129</td>\n",
       "      <td>5132</td>\n",
       "    </tr>\n",
       "  </tbody>\n",
       "</table>\n",
       "<p>10 rows × 388 columns</p>\n",
       "</div>"
      ],
      "text/plain": [
       "   id       country_region  jan222020  jan232020  jan242020  jan252020  \\\n",
       "0   0          Afghanistan          0          0          0          0   \n",
       "1   1              Albania          0          0          0          0   \n",
       "2   2              Algeria          0          0          0          0   \n",
       "3   3              Andorra          0          0          0          0   \n",
       "4   4               Angola          0          0          0          0   \n",
       "5   5  Antigua and Barbuda          0          0          0          0   \n",
       "6   6            Argentina          0          0          0          0   \n",
       "7   7              Armenia          0          0          0          0   \n",
       "8   8            Australia          0          0          0          0   \n",
       "9   9            Australia          0          0          0          0   \n",
       "\n",
       "   jan262020  jan272020  jan282020  jan292020  ...  feb012021  feb022021  \\\n",
       "0          0          0          0          0  ...      55059      55121   \n",
       "1          0          0          0          0  ...      78992      79934   \n",
       "2          0          0          0          0  ...     107578     107841   \n",
       "3          0          0          0          0  ...       9972      10017   \n",
       "4          0          0          0          0  ...      19829      19900   \n",
       "5          0          0          0          0  ...        234        249   \n",
       "6          0          0          0          0  ...    1933853    1943548   \n",
       "7          0          0          0          0  ...     167088     167231   \n",
       "8          0          0          0          0  ...        118        118   \n",
       "9          3          4          4          4  ...       5112       5114   \n",
       "\n",
       "   feb032021  feb042021  feb052021  feb062021  feb072021  feb082021  \\\n",
       "0      55174      55231      55265      55330      55335      55359   \n",
       "1      80941      81993      83082      84212      85336      86289   \n",
       "2     108116     108381     108629     108629     109088     109313   \n",
       "3      10070      10137      10172      10206      10251      10275   \n",
       "4      19937      19996      20030      20062      20086      20112   \n",
       "5        249        268        277        288        299        316   \n",
       "6    1952744    1961635    1970009    1976689    1980347    1985501   \n",
       "7     167421     167568     167726     167937     168088     168177   \n",
       "8        118        118        118        118        118        118   \n",
       "9       5117       5117       5119       5120       5123       5125   \n",
       "\n",
       "   feb092021  feb102021  \n",
       "0      55384      55402  \n",
       "1      87528      88671  \n",
       "2     109559     109782  \n",
       "3      10312      10352  \n",
       "4      20163      20210  \n",
       "5        316        350  \n",
       "6    1993295    2001034  \n",
       "7     168300     168496  \n",
       "8        118        118  \n",
       "9       5129       5132  \n",
       "\n",
       "[10 rows x 388 columns]"
      ]
     },
     "execution_count": 7,
     "metadata": {},
     "output_type": "execute_result"
    }
   ],
   "source": [
    "covid_dataset_csv.head(10)"
   ]
  },
  {
   "cell_type": "markdown",
   "id": "stuck-comfort",
   "metadata": {},
   "source": [
    "### Task 2.3: Aggregate the rows by the country"
   ]
  },
  {
   "cell_type": "code",
   "execution_count": 8,
   "id": "indirect-reference",
   "metadata": {},
   "outputs": [],
   "source": [
    "covid_dataset_agregated = covid_dataset_csv.groupby(\"country_region\").sum()"
   ]
  },
  {
   "cell_type": "code",
   "execution_count": 9,
   "id": "comparative-hometown",
   "metadata": {},
   "outputs": [
    {
     "data": {
      "text/html": [
       "<div>\n",
       "<style scoped>\n",
       "    .dataframe tbody tr th:only-of-type {\n",
       "        vertical-align: middle;\n",
       "    }\n",
       "\n",
       "    .dataframe tbody tr th {\n",
       "        vertical-align: top;\n",
       "    }\n",
       "\n",
       "    .dataframe thead th {\n",
       "        text-align: right;\n",
       "    }\n",
       "</style>\n",
       "<table border=\"1\" class=\"dataframe\">\n",
       "  <thead>\n",
       "    <tr style=\"text-align: right;\">\n",
       "      <th></th>\n",
       "      <th>id</th>\n",
       "      <th>jan222020</th>\n",
       "      <th>jan232020</th>\n",
       "      <th>jan242020</th>\n",
       "      <th>jan252020</th>\n",
       "      <th>jan262020</th>\n",
       "      <th>jan272020</th>\n",
       "      <th>jan282020</th>\n",
       "      <th>jan292020</th>\n",
       "      <th>jan302020</th>\n",
       "      <th>...</th>\n",
       "      <th>feb012021</th>\n",
       "      <th>feb022021</th>\n",
       "      <th>feb032021</th>\n",
       "      <th>feb042021</th>\n",
       "      <th>feb052021</th>\n",
       "      <th>feb062021</th>\n",
       "      <th>feb072021</th>\n",
       "      <th>feb082021</th>\n",
       "      <th>feb092021</th>\n",
       "      <th>feb102021</th>\n",
       "    </tr>\n",
       "    <tr>\n",
       "      <th>country_region</th>\n",
       "      <th></th>\n",
       "      <th></th>\n",
       "      <th></th>\n",
       "      <th></th>\n",
       "      <th></th>\n",
       "      <th></th>\n",
       "      <th></th>\n",
       "      <th></th>\n",
       "      <th></th>\n",
       "      <th></th>\n",
       "      <th></th>\n",
       "      <th></th>\n",
       "      <th></th>\n",
       "      <th></th>\n",
       "      <th></th>\n",
       "      <th></th>\n",
       "      <th></th>\n",
       "      <th></th>\n",
       "      <th></th>\n",
       "      <th></th>\n",
       "      <th></th>\n",
       "    </tr>\n",
       "  </thead>\n",
       "  <tbody>\n",
       "    <tr>\n",
       "      <th>Afghanistan</th>\n",
       "      <td>0</td>\n",
       "      <td>0</td>\n",
       "      <td>0</td>\n",
       "      <td>0</td>\n",
       "      <td>0</td>\n",
       "      <td>0</td>\n",
       "      <td>0</td>\n",
       "      <td>0</td>\n",
       "      <td>0</td>\n",
       "      <td>0</td>\n",
       "      <td>...</td>\n",
       "      <td>55059</td>\n",
       "      <td>55121</td>\n",
       "      <td>55174</td>\n",
       "      <td>55231</td>\n",
       "      <td>55265</td>\n",
       "      <td>55330</td>\n",
       "      <td>55335</td>\n",
       "      <td>55359</td>\n",
       "      <td>55384</td>\n",
       "      <td>55402</td>\n",
       "    </tr>\n",
       "    <tr>\n",
       "      <th>Albania</th>\n",
       "      <td>1</td>\n",
       "      <td>0</td>\n",
       "      <td>0</td>\n",
       "      <td>0</td>\n",
       "      <td>0</td>\n",
       "      <td>0</td>\n",
       "      <td>0</td>\n",
       "      <td>0</td>\n",
       "      <td>0</td>\n",
       "      <td>0</td>\n",
       "      <td>...</td>\n",
       "      <td>78992</td>\n",
       "      <td>79934</td>\n",
       "      <td>80941</td>\n",
       "      <td>81993</td>\n",
       "      <td>83082</td>\n",
       "      <td>84212</td>\n",
       "      <td>85336</td>\n",
       "      <td>86289</td>\n",
       "      <td>87528</td>\n",
       "      <td>88671</td>\n",
       "    </tr>\n",
       "    <tr>\n",
       "      <th>Algeria</th>\n",
       "      <td>2</td>\n",
       "      <td>0</td>\n",
       "      <td>0</td>\n",
       "      <td>0</td>\n",
       "      <td>0</td>\n",
       "      <td>0</td>\n",
       "      <td>0</td>\n",
       "      <td>0</td>\n",
       "      <td>0</td>\n",
       "      <td>0</td>\n",
       "      <td>...</td>\n",
       "      <td>107578</td>\n",
       "      <td>107841</td>\n",
       "      <td>108116</td>\n",
       "      <td>108381</td>\n",
       "      <td>108629</td>\n",
       "      <td>108629</td>\n",
       "      <td>109088</td>\n",
       "      <td>109313</td>\n",
       "      <td>109559</td>\n",
       "      <td>109782</td>\n",
       "    </tr>\n",
       "    <tr>\n",
       "      <th>Andorra</th>\n",
       "      <td>3</td>\n",
       "      <td>0</td>\n",
       "      <td>0</td>\n",
       "      <td>0</td>\n",
       "      <td>0</td>\n",
       "      <td>0</td>\n",
       "      <td>0</td>\n",
       "      <td>0</td>\n",
       "      <td>0</td>\n",
       "      <td>0</td>\n",
       "      <td>...</td>\n",
       "      <td>9972</td>\n",
       "      <td>10017</td>\n",
       "      <td>10070</td>\n",
       "      <td>10137</td>\n",
       "      <td>10172</td>\n",
       "      <td>10206</td>\n",
       "      <td>10251</td>\n",
       "      <td>10275</td>\n",
       "      <td>10312</td>\n",
       "      <td>10352</td>\n",
       "    </tr>\n",
       "    <tr>\n",
       "      <th>Angola</th>\n",
       "      <td>4</td>\n",
       "      <td>0</td>\n",
       "      <td>0</td>\n",
       "      <td>0</td>\n",
       "      <td>0</td>\n",
       "      <td>0</td>\n",
       "      <td>0</td>\n",
       "      <td>0</td>\n",
       "      <td>0</td>\n",
       "      <td>0</td>\n",
       "      <td>...</td>\n",
       "      <td>19829</td>\n",
       "      <td>19900</td>\n",
       "      <td>19937</td>\n",
       "      <td>19996</td>\n",
       "      <td>20030</td>\n",
       "      <td>20062</td>\n",
       "      <td>20086</td>\n",
       "      <td>20112</td>\n",
       "      <td>20163</td>\n",
       "      <td>20210</td>\n",
       "    </tr>\n",
       "  </tbody>\n",
       "</table>\n",
       "<p>5 rows × 387 columns</p>\n",
       "</div>"
      ],
      "text/plain": [
       "                id  jan222020  jan232020  jan242020  jan252020  jan262020  \\\n",
       "country_region                                                              \n",
       "Afghanistan      0          0          0          0          0          0   \n",
       "Albania          1          0          0          0          0          0   \n",
       "Algeria          2          0          0          0          0          0   \n",
       "Andorra          3          0          0          0          0          0   \n",
       "Angola           4          0          0          0          0          0   \n",
       "\n",
       "                jan272020  jan282020  jan292020  jan302020  ...  feb012021  \\\n",
       "country_region                                              ...              \n",
       "Afghanistan             0          0          0          0  ...      55059   \n",
       "Albania                 0          0          0          0  ...      78992   \n",
       "Algeria                 0          0          0          0  ...     107578   \n",
       "Andorra                 0          0          0          0  ...       9972   \n",
       "Angola                  0          0          0          0  ...      19829   \n",
       "\n",
       "                feb022021  feb032021  feb042021  feb052021  feb062021  \\\n",
       "country_region                                                          \n",
       "Afghanistan         55121      55174      55231      55265      55330   \n",
       "Albania             79934      80941      81993      83082      84212   \n",
       "Algeria            107841     108116     108381     108629     108629   \n",
       "Andorra             10017      10070      10137      10172      10206   \n",
       "Angola              19900      19937      19996      20030      20062   \n",
       "\n",
       "                feb072021  feb082021  feb092021  feb102021  \n",
       "country_region                                              \n",
       "Afghanistan         55335      55359      55384      55402  \n",
       "Albania             85336      86289      87528      88671  \n",
       "Algeria            109088     109313     109559     109782  \n",
       "Andorra             10251      10275      10312      10352  \n",
       "Angola              20086      20112      20163      20210  \n",
       "\n",
       "[5 rows x 387 columns]"
      ]
     },
     "execution_count": 9,
     "metadata": {},
     "output_type": "execute_result"
    }
   ],
   "source": [
    "covid_dataset_agregated.head()"
   ]
  },
  {
   "cell_type": "code",
   "execution_count": 10,
   "id": "guilty-desert",
   "metadata": {},
   "outputs": [
    {
     "data": {
      "text/plain": [
       "(192, 387)"
      ]
     },
     "execution_count": 10,
     "metadata": {},
     "output_type": "execute_result"
    }
   ],
   "source": [
    "covid_dataset_agregated.shape"
   ]
  },
  {
   "cell_type": "markdown",
   "id": "emerging-democracy",
   "metadata": {},
   "source": [
    "### Task 2.4: Visualize data related to a country (for example France)\n",
    "\n",
    "visualization helps to understand the data"
   ]
  },
  {
   "cell_type": "code",
   "execution_count": null,
   "id": "tamil-novelty",
   "metadata": {},
   "outputs": [],
   "source": [
    "covid_dataset_agregated.loc[\"France\"].plot()\n",
    "covid_dataset_agregated.loc[\"Russia\"].plot()\n",
    "covid_dataset_agregated.loc[\"Germany\"].plot()\n",
    "plt.legend()"
   ]
  },
  {
   "cell_type": "markdown",
   "id": "piano-python",
   "metadata": {},
   "source": [
    "### Task3: Calculate a good measure\n",
    "\n",
    "Find a good measure represented as a number, describing the spread of the virus in a country."
   ]
  },
  {
   "cell_type": "code",
   "execution_count": 12,
   "id": "variable-associate",
   "metadata": {},
   "outputs": [
    {
     "data": {
      "text/plain": [
       "<AxesSubplot:>"
      ]
     },
     "execution_count": 12,
     "metadata": {},
     "output_type": "execute_result"
    },
    {
     "data": {
      "image/png": "[encoded data removed]",
      "text/plain": [
       "<Figure size 432x288 with 1 Axes>"
      ]
     },
     "metadata": {
      "needs_background": "light"
     },
     "output_type": "display_data"
    }
   ],
   "source": [
    "covid_dataset_agregated.loc['France'].plot()"
   ]
  },
  {
   "cell_type": "code",
   "execution_count": 13,
   "id": "opposite-singles",
   "metadata": {},
   "outputs": [
    {
     "data": {
      "text/plain": [
       "<AxesSubplot:>"
      ]
     },
     "execution_count": 13,
     "metadata": {},
     "output_type": "execute_result"
    },
    {
     "data": {
      "image/png": "[encoded data removed]",
      "text/plain": [
       "<Figure size 432x288 with 1 Axes>"
      ]
     },
     "metadata": {
      "needs_background": "light"
     },
     "output_type": "display_data"
    }
   ],
   "source": [
    "covid_dataset_agregated.loc[\"Russia\"][:3].plot()"
   ]
  },
  {
   "cell_type": "markdown",
   "id": "complex-puppy",
   "metadata": {},
   "source": [
    "### Task 3.1: caculating the first derivative of the curve"
   ]
  },
  {
   "cell_type": "code",
   "execution_count": 14,
   "id": "executed-petersburg",
   "metadata": {},
   "outputs": [
    {
     "data": {
      "text/plain": [
       "<AxesSubplot:>"
      ]
     },
     "execution_count": 14,
     "metadata": {},
     "output_type": "execute_result"
    },
    {
     "data": {
      "image/png": "[encoded data removed]",
      "text/plain": [
       "<Figure size 432x288 with 1 Axes>"
      ]
     },
     "metadata": {
      "needs_background": "light"
     },
     "output_type": "display_data"
    }
   ],
   "source": [
    "covid_dataset_agregated.loc[\"Germany\"].diff().plot()"
   ]
  },
  {
   "cell_type": "markdown",
   "id": "widespread-sector",
   "metadata": {},
   "source": [
    "### Task 3.2: find maxmimum infection rate for France, Russia and Germany"
   ]
  },
  {
   "cell_type": "code",
   "execution_count": 15,
   "id": "stupid-image",
   "metadata": {},
   "outputs": [
    {
     "data": {
      "text/plain": [
       "106091.0"
      ]
     },
     "execution_count": 15,
     "metadata": {},
     "output_type": "execute_result"
    }
   ],
   "source": [
    "covid_dataset_agregated.loc[\"France\"].diff().max()"
   ]
  },
  {
   "cell_type": "code",
   "execution_count": 16,
   "id": "expired-attitude",
   "metadata": {},
   "outputs": [
    {
     "data": {
      "text/plain": [
       "29499.0"
      ]
     },
     "execution_count": 16,
     "metadata": {},
     "output_type": "execute_result"
    }
   ],
   "source": [
    "covid_dataset_agregated.loc[\"Russia\"].diff().max()"
   ]
  },
  {
   "cell_type": "code",
   "execution_count": 17,
   "id": "published-archives",
   "metadata": {},
   "outputs": [
    {
     "data": {
      "text/plain": [
       "49044.0"
      ]
     },
     "execution_count": 17,
     "metadata": {},
     "output_type": "execute_result"
    }
   ],
   "source": [
    "covid_dataset_agregated.loc[\"Germany\"].diff().max()"
   ]
  },
  {
   "cell_type": "markdown",
   "id": "listed-bride",
   "metadata": {},
   "source": [
    "### Task 3.3: find maximum infection rate for all of the countries."
   ]
  },
  {
   "cell_type": "code",
   "execution_count": 18,
   "id": "interior-walnut",
   "metadata": {},
   "outputs": [],
   "source": [
    "countries = list(covid_dataset_agregated.index)\n",
    "\n",
    "max_infected_rates = []\n",
    "\n",
    "for c in countries :\n",
    "    max_infected_rates.append(covid_dataset_agregated.loc[c].diff().max())\n",
    "covid_dataset_agregated[\"max_infection_rate\"] = max_infected_rates"
   ]
  },
  {
   "cell_type": "code",
   "execution_count": 19,
   "id": "crazy-relevance",
   "metadata": {},
   "outputs": [
    {
     "data": {
      "text/html": [
       "<div>\n",
       "<style scoped>\n",
       "    .dataframe tbody tr th:only-of-type {\n",
       "        vertical-align: middle;\n",
       "    }\n",
       "\n",
       "    .dataframe tbody tr th {\n",
       "        vertical-align: top;\n",
       "    }\n",
       "\n",
       "    .dataframe thead th {\n",
       "        text-align: right;\n",
       "    }\n",
       "</style>\n",
       "<table border=\"1\" class=\"dataframe\">\n",
       "  <thead>\n",
       "    <tr style=\"text-align: right;\">\n",
       "      <th></th>\n",
       "      <th>id</th>\n",
       "      <th>jan222020</th>\n",
       "      <th>jan232020</th>\n",
       "      <th>jan242020</th>\n",
       "      <th>jan252020</th>\n",
       "      <th>jan262020</th>\n",
       "      <th>jan272020</th>\n",
       "      <th>jan282020</th>\n",
       "      <th>jan292020</th>\n",
       "      <th>jan302020</th>\n",
       "      <th>...</th>\n",
       "      <th>feb022021</th>\n",
       "      <th>feb032021</th>\n",
       "      <th>feb042021</th>\n",
       "      <th>feb052021</th>\n",
       "      <th>feb062021</th>\n",
       "      <th>feb072021</th>\n",
       "      <th>feb082021</th>\n",
       "      <th>feb092021</th>\n",
       "      <th>feb102021</th>\n",
       "      <th>max_infection_rate</th>\n",
       "    </tr>\n",
       "    <tr>\n",
       "      <th>country_region</th>\n",
       "      <th></th>\n",
       "      <th></th>\n",
       "      <th></th>\n",
       "      <th></th>\n",
       "      <th></th>\n",
       "      <th></th>\n",
       "      <th></th>\n",
       "      <th></th>\n",
       "      <th></th>\n",
       "      <th></th>\n",
       "      <th></th>\n",
       "      <th></th>\n",
       "      <th></th>\n",
       "      <th></th>\n",
       "      <th></th>\n",
       "      <th></th>\n",
       "      <th></th>\n",
       "      <th></th>\n",
       "      <th></th>\n",
       "      <th></th>\n",
       "      <th></th>\n",
       "    </tr>\n",
       "  </thead>\n",
       "  <tbody>\n",
       "    <tr>\n",
       "      <th>Afghanistan</th>\n",
       "      <td>0</td>\n",
       "      <td>0</td>\n",
       "      <td>0</td>\n",
       "      <td>0</td>\n",
       "      <td>0</td>\n",
       "      <td>0</td>\n",
       "      <td>0</td>\n",
       "      <td>0</td>\n",
       "      <td>0</td>\n",
       "      <td>0</td>\n",
       "      <td>...</td>\n",
       "      <td>55121</td>\n",
       "      <td>55174</td>\n",
       "      <td>55231</td>\n",
       "      <td>55265</td>\n",
       "      <td>55330</td>\n",
       "      <td>55335</td>\n",
       "      <td>55359</td>\n",
       "      <td>55384</td>\n",
       "      <td>55402</td>\n",
       "      <td>1485.0</td>\n",
       "    </tr>\n",
       "    <tr>\n",
       "      <th>Albania</th>\n",
       "      <td>1</td>\n",
       "      <td>0</td>\n",
       "      <td>0</td>\n",
       "      <td>0</td>\n",
       "      <td>0</td>\n",
       "      <td>0</td>\n",
       "      <td>0</td>\n",
       "      <td>0</td>\n",
       "      <td>0</td>\n",
       "      <td>0</td>\n",
       "      <td>...</td>\n",
       "      <td>79934</td>\n",
       "      <td>80941</td>\n",
       "      <td>81993</td>\n",
       "      <td>83082</td>\n",
       "      <td>84212</td>\n",
       "      <td>85336</td>\n",
       "      <td>86289</td>\n",
       "      <td>87528</td>\n",
       "      <td>88671</td>\n",
       "      <td>1239.0</td>\n",
       "    </tr>\n",
       "    <tr>\n",
       "      <th>Algeria</th>\n",
       "      <td>2</td>\n",
       "      <td>0</td>\n",
       "      <td>0</td>\n",
       "      <td>0</td>\n",
       "      <td>0</td>\n",
       "      <td>0</td>\n",
       "      <td>0</td>\n",
       "      <td>0</td>\n",
       "      <td>0</td>\n",
       "      <td>0</td>\n",
       "      <td>...</td>\n",
       "      <td>107841</td>\n",
       "      <td>108116</td>\n",
       "      <td>108381</td>\n",
       "      <td>108629</td>\n",
       "      <td>108629</td>\n",
       "      <td>109088</td>\n",
       "      <td>109313</td>\n",
       "      <td>109559</td>\n",
       "      <td>109782</td>\n",
       "      <td>1133.0</td>\n",
       "    </tr>\n",
       "    <tr>\n",
       "      <th>Andorra</th>\n",
       "      <td>3</td>\n",
       "      <td>0</td>\n",
       "      <td>0</td>\n",
       "      <td>0</td>\n",
       "      <td>0</td>\n",
       "      <td>0</td>\n",
       "      <td>0</td>\n",
       "      <td>0</td>\n",
       "      <td>0</td>\n",
       "      <td>0</td>\n",
       "      <td>...</td>\n",
       "      <td>10017</td>\n",
       "      <td>10070</td>\n",
       "      <td>10137</td>\n",
       "      <td>10172</td>\n",
       "      <td>10206</td>\n",
       "      <td>10251</td>\n",
       "      <td>10275</td>\n",
       "      <td>10312</td>\n",
       "      <td>10352</td>\n",
       "      <td>299.0</td>\n",
       "    </tr>\n",
       "    <tr>\n",
       "      <th>Angola</th>\n",
       "      <td>4</td>\n",
       "      <td>0</td>\n",
       "      <td>0</td>\n",
       "      <td>0</td>\n",
       "      <td>0</td>\n",
       "      <td>0</td>\n",
       "      <td>0</td>\n",
       "      <td>0</td>\n",
       "      <td>0</td>\n",
       "      <td>0</td>\n",
       "      <td>...</td>\n",
       "      <td>19900</td>\n",
       "      <td>19937</td>\n",
       "      <td>19996</td>\n",
       "      <td>20030</td>\n",
       "      <td>20062</td>\n",
       "      <td>20086</td>\n",
       "      <td>20112</td>\n",
       "      <td>20163</td>\n",
       "      <td>20210</td>\n",
       "      <td>355.0</td>\n",
       "    </tr>\n",
       "  </tbody>\n",
       "</table>\n",
       "<p>5 rows × 388 columns</p>\n",
       "</div>"
      ],
      "text/plain": [
       "                id  jan222020  jan232020  jan242020  jan252020  jan262020  \\\n",
       "country_region                                                              \n",
       "Afghanistan      0          0          0          0          0          0   \n",
       "Albania          1          0          0          0          0          0   \n",
       "Algeria          2          0          0          0          0          0   \n",
       "Andorra          3          0          0          0          0          0   \n",
       "Angola           4          0          0          0          0          0   \n",
       "\n",
       "                jan272020  jan282020  jan292020  jan302020  ...  feb022021  \\\n",
       "country_region                                              ...              \n",
       "Afghanistan             0          0          0          0  ...      55121   \n",
       "Albania                 0          0          0          0  ...      79934   \n",
       "Algeria                 0          0          0          0  ...     107841   \n",
       "Andorra                 0          0          0          0  ...      10017   \n",
       "Angola                  0          0          0          0  ...      19900   \n",
       "\n",
       "                feb032021  feb042021  feb052021  feb062021  feb072021  \\\n",
       "country_region                                                          \n",
       "Afghanistan         55174      55231      55265      55330      55335   \n",
       "Albania             80941      81993      83082      84212      85336   \n",
       "Algeria            108116     108381     108629     108629     109088   \n",
       "Andorra             10070      10137      10172      10206      10251   \n",
       "Angola              19937      19996      20030      20062      20086   \n",
       "\n",
       "                feb082021  feb092021  feb102021  max_infection_rate  \n",
       "country_region                                                       \n",
       "Afghanistan         55359      55384      55402              1485.0  \n",
       "Albania             86289      87528      88671              1239.0  \n",
       "Algeria            109313     109559     109782              1133.0  \n",
       "Andorra             10275      10312      10352               299.0  \n",
       "Angola              20112      20163      20210               355.0  \n",
       "\n",
       "[5 rows x 388 columns]"
      ]
     },
     "execution_count": 19,
     "metadata": {},
     "output_type": "execute_result"
    }
   ],
   "source": [
    "covid_dataset_agregated.head()"
   ]
  },
  {
   "cell_type": "markdown",
   "id": "inappropriate-soldier",
   "metadata": {},
   "source": [
    "### Task 3.4: create a new dataframe with only needed column"
   ]
  },
  {
   "cell_type": "code",
   "execution_count": 20,
   "id": "international-officer",
   "metadata": {},
   "outputs": [],
   "source": [
    "covid_data = pd.DataFrame(covid_dataset_agregated['max_infection_rate'])"
   ]
  },
  {
   "cell_type": "code",
   "execution_count": 21,
   "id": "strategic-friday",
   "metadata": {},
   "outputs": [
    {
     "data": {
      "text/html": [
       "<div>\n",
       "<style scoped>\n",
       "    .dataframe tbody tr th:only-of-type {\n",
       "        vertical-align: middle;\n",
       "    }\n",
       "\n",
       "    .dataframe tbody tr th {\n",
       "        vertical-align: top;\n",
       "    }\n",
       "\n",
       "    .dataframe thead th {\n",
       "        text-align: right;\n",
       "    }\n",
       "</style>\n",
       "<table border=\"1\" class=\"dataframe\">\n",
       "  <thead>\n",
       "    <tr style=\"text-align: right;\">\n",
       "      <th></th>\n",
       "      <th>max_infection_rate</th>\n",
       "    </tr>\n",
       "    <tr>\n",
       "      <th>country_region</th>\n",
       "      <th></th>\n",
       "    </tr>\n",
       "  </thead>\n",
       "  <tbody>\n",
       "    <tr>\n",
       "      <th>Afghanistan</th>\n",
       "      <td>1485.0</td>\n",
       "    </tr>\n",
       "    <tr>\n",
       "      <th>Albania</th>\n",
       "      <td>1239.0</td>\n",
       "    </tr>\n",
       "    <tr>\n",
       "      <th>Algeria</th>\n",
       "      <td>1133.0</td>\n",
       "    </tr>\n",
       "    <tr>\n",
       "      <th>Andorra</th>\n",
       "      <td>299.0</td>\n",
       "    </tr>\n",
       "    <tr>\n",
       "      <th>Angola</th>\n",
       "      <td>355.0</td>\n",
       "    </tr>\n",
       "  </tbody>\n",
       "</table>\n",
       "</div>"
      ],
      "text/plain": [
       "                max_infection_rate\n",
       "country_region                    \n",
       "Afghanistan                 1485.0\n",
       "Albania                     1239.0\n",
       "Algeria                     1133.0\n",
       "Andorra                      299.0\n",
       "Angola                       355.0"
      ]
     },
     "execution_count": 21,
     "metadata": {},
     "output_type": "execute_result"
    }
   ],
   "source": [
    "covid_data.head()"
   ]
  },
  {
   "cell_type": "markdown",
   "id": "prerequisite-affair",
   "metadata": {},
   "source": [
    "### Task4:\n",
    "\n",
    "+ Importing the WorldHappinessReport.csv dataset\n",
    "+ Selecting needed columns for our analysis\n",
    "+ Join the datasets\n",
    "+ Calculate the correlations as the result of our analysis"
   ]
  },
  {
   "cell_type": "markdown",
   "id": "attractive-pierre",
   "metadata": {},
   "source": [
    "###  Task 4.1 : Importing the dataset"
   ]
  },
  {
   "cell_type": "code",
   "execution_count": 22,
   "id": "south-staff",
   "metadata": {},
   "outputs": [],
   "source": [
    "happiness_report = pd.read_csv(\"data/worldwide_happiness_report.csv\")"
   ]
  },
  {
   "cell_type": "code",
   "execution_count": 23,
   "id": "diverse-uruguay",
   "metadata": {},
   "outputs": [
    {
     "data": {
      "text/html": [
       "<div>\n",
       "<style scoped>\n",
       "    .dataframe tbody tr th:only-of-type {\n",
       "        vertical-align: middle;\n",
       "    }\n",
       "\n",
       "    .dataframe tbody tr th {\n",
       "        vertical-align: top;\n",
       "    }\n",
       "\n",
       "    .dataframe thead th {\n",
       "        text-align: right;\n",
       "    }\n",
       "</style>\n",
       "<table border=\"1\" class=\"dataframe\">\n",
       "  <thead>\n",
       "    <tr style=\"text-align: right;\">\n",
       "      <th></th>\n",
       "      <th>Overall rank</th>\n",
       "      <th>Country or region</th>\n",
       "      <th>Score</th>\n",
       "      <th>GDP per capita</th>\n",
       "      <th>Social support</th>\n",
       "      <th>Healthy life expectancy</th>\n",
       "      <th>Freedom to make life choices</th>\n",
       "      <th>Generosity</th>\n",
       "      <th>Perceptions of corruption</th>\n",
       "    </tr>\n",
       "  </thead>\n",
       "  <tbody>\n",
       "    <tr>\n",
       "      <th>0</th>\n",
       "      <td>1</td>\n",
       "      <td>Finland</td>\n",
       "      <td>7.769</td>\n",
       "      <td>1.340</td>\n",
       "      <td>1.587</td>\n",
       "      <td>0.986</td>\n",
       "      <td>0.596</td>\n",
       "      <td>0.153</td>\n",
       "      <td>0.393</td>\n",
       "    </tr>\n",
       "    <tr>\n",
       "      <th>1</th>\n",
       "      <td>2</td>\n",
       "      <td>Denmark</td>\n",
       "      <td>7.600</td>\n",
       "      <td>1.383</td>\n",
       "      <td>1.573</td>\n",
       "      <td>0.996</td>\n",
       "      <td>0.592</td>\n",
       "      <td>0.252</td>\n",
       "      <td>0.410</td>\n",
       "    </tr>\n",
       "    <tr>\n",
       "      <th>2</th>\n",
       "      <td>3</td>\n",
       "      <td>Norway</td>\n",
       "      <td>7.554</td>\n",
       "      <td>1.488</td>\n",
       "      <td>1.582</td>\n",
       "      <td>1.028</td>\n",
       "      <td>0.603</td>\n",
       "      <td>0.271</td>\n",
       "      <td>0.341</td>\n",
       "    </tr>\n",
       "    <tr>\n",
       "      <th>3</th>\n",
       "      <td>4</td>\n",
       "      <td>Iceland</td>\n",
       "      <td>7.494</td>\n",
       "      <td>1.380</td>\n",
       "      <td>1.624</td>\n",
       "      <td>1.026</td>\n",
       "      <td>0.591</td>\n",
       "      <td>0.354</td>\n",
       "      <td>0.118</td>\n",
       "    </tr>\n",
       "    <tr>\n",
       "      <th>4</th>\n",
       "      <td>5</td>\n",
       "      <td>Netherlands</td>\n",
       "      <td>7.488</td>\n",
       "      <td>1.396</td>\n",
       "      <td>1.522</td>\n",
       "      <td>0.999</td>\n",
       "      <td>0.557</td>\n",
       "      <td>0.322</td>\n",
       "      <td>0.298</td>\n",
       "    </tr>\n",
       "  </tbody>\n",
       "</table>\n",
       "</div>"
      ],
      "text/plain": [
       "   Overall rank Country or region  Score  GDP per capita  Social support  \\\n",
       "0             1           Finland  7.769           1.340           1.587   \n",
       "1             2           Denmark  7.600           1.383           1.573   \n",
       "2             3            Norway  7.554           1.488           1.582   \n",
       "3             4           Iceland  7.494           1.380           1.624   \n",
       "4             5       Netherlands  7.488           1.396           1.522   \n",
       "\n",
       "   Healthy life expectancy  Freedom to make life choices  Generosity  \\\n",
       "0                    0.986                         0.596       0.153   \n",
       "1                    0.996                         0.592       0.252   \n",
       "2                    1.028                         0.603       0.271   \n",
       "3                    1.026                         0.591       0.354   \n",
       "4                    0.999                         0.557       0.322   \n",
       "\n",
       "   Perceptions of corruption  \n",
       "0                      0.393  \n",
       "1                      0.410  \n",
       "2                      0.341  \n",
       "3                      0.118  \n",
       "4                      0.298  "
      ]
     },
     "execution_count": 23,
     "metadata": {},
     "output_type": "execute_result"
    }
   ],
   "source": [
    "happiness_report.head()"
   ]
  },
  {
   "cell_type": "markdown",
   "id": "imposed-search",
   "metadata": {},
   "source": [
    "### Task 4.2: let's drop the useless columns"
   ]
  },
  {
   "cell_type": "code",
   "execution_count": 24,
   "id": "loose-fitness",
   "metadata": {},
   "outputs": [],
   "source": [
    "unused_cols = [\"Overall rank\", \"Score\", \"Generosity\", \"Perceptions of corruption\"]"
   ]
  },
  {
   "cell_type": "code",
   "execution_count": 25,
   "id": "square-burner",
   "metadata": {},
   "outputs": [
    {
     "data": {
      "text/html": [
       "<div>\n",
       "<style scoped>\n",
       "    .dataframe tbody tr th:only-of-type {\n",
       "        vertical-align: middle;\n",
       "    }\n",
       "\n",
       "    .dataframe tbody tr th {\n",
       "        vertical-align: top;\n",
       "    }\n",
       "\n",
       "    .dataframe thead th {\n",
       "        text-align: right;\n",
       "    }\n",
       "</style>\n",
       "<table border=\"1\" class=\"dataframe\">\n",
       "  <thead>\n",
       "    <tr style=\"text-align: right;\">\n",
       "      <th></th>\n",
       "      <th>Country or region</th>\n",
       "      <th>GDP per capita</th>\n",
       "      <th>Social support</th>\n",
       "      <th>Healthy life expectancy</th>\n",
       "      <th>Freedom to make life choices</th>\n",
       "    </tr>\n",
       "  </thead>\n",
       "  <tbody>\n",
       "    <tr>\n",
       "      <th>0</th>\n",
       "      <td>Finland</td>\n",
       "      <td>1.340</td>\n",
       "      <td>1.587</td>\n",
       "      <td>0.986</td>\n",
       "      <td>0.596</td>\n",
       "    </tr>\n",
       "    <tr>\n",
       "      <th>1</th>\n",
       "      <td>Denmark</td>\n",
       "      <td>1.383</td>\n",
       "      <td>1.573</td>\n",
       "      <td>0.996</td>\n",
       "      <td>0.592</td>\n",
       "    </tr>\n",
       "    <tr>\n",
       "      <th>2</th>\n",
       "      <td>Norway</td>\n",
       "      <td>1.488</td>\n",
       "      <td>1.582</td>\n",
       "      <td>1.028</td>\n",
       "      <td>0.603</td>\n",
       "    </tr>\n",
       "    <tr>\n",
       "      <th>3</th>\n",
       "      <td>Iceland</td>\n",
       "      <td>1.380</td>\n",
       "      <td>1.624</td>\n",
       "      <td>1.026</td>\n",
       "      <td>0.591</td>\n",
       "    </tr>\n",
       "    <tr>\n",
       "      <th>4</th>\n",
       "      <td>Netherlands</td>\n",
       "      <td>1.396</td>\n",
       "      <td>1.522</td>\n",
       "      <td>0.999</td>\n",
       "      <td>0.557</td>\n",
       "    </tr>\n",
       "  </tbody>\n",
       "</table>\n",
       "</div>"
      ],
      "text/plain": [
       "  Country or region  GDP per capita  Social support  Healthy life expectancy  \\\n",
       "0           Finland           1.340           1.587                    0.986   \n",
       "1           Denmark           1.383           1.573                    0.996   \n",
       "2            Norway           1.488           1.582                    1.028   \n",
       "3           Iceland           1.380           1.624                    1.026   \n",
       "4       Netherlands           1.396           1.522                    0.999   \n",
       "\n",
       "   Freedom to make life choices  \n",
       "0                         0.596  \n",
       "1                         0.592  \n",
       "2                         0.603  \n",
       "3                         0.591  \n",
       "4                         0.557  "
      ]
     },
     "execution_count": 25,
     "metadata": {},
     "output_type": "execute_result"
    }
   ],
   "source": [
    "happiness_report.drop(unused_cols, axis=1, inplace=True)\n",
    "happiness_report.head()"
   ]
  },
  {
   "cell_type": "markdown",
   "id": "shared-cleanup",
   "metadata": {},
   "source": [
    "###  Task 4.3: changing the indices of the dataframe"
   ]
  },
  {
   "cell_type": "code",
   "execution_count": 26,
   "id": "independent-queue",
   "metadata": {},
   "outputs": [],
   "source": [
    "happiness_report.set_index(\"Country or region\", inplace=True)"
   ]
  },
  {
   "cell_type": "code",
   "execution_count": 27,
   "id": "compressed-wallet",
   "metadata": {},
   "outputs": [
    {
     "data": {
      "text/html": [
       "<div>\n",
       "<style scoped>\n",
       "    .dataframe tbody tr th:only-of-type {\n",
       "        vertical-align: middle;\n",
       "    }\n",
       "\n",
       "    .dataframe tbody tr th {\n",
       "        vertical-align: top;\n",
       "    }\n",
       "\n",
       "    .dataframe thead th {\n",
       "        text-align: right;\n",
       "    }\n",
       "</style>\n",
       "<table border=\"1\" class=\"dataframe\">\n",
       "  <thead>\n",
       "    <tr style=\"text-align: right;\">\n",
       "      <th></th>\n",
       "      <th>GDP per capita</th>\n",
       "      <th>Social support</th>\n",
       "      <th>Healthy life expectancy</th>\n",
       "      <th>Freedom to make life choices</th>\n",
       "    </tr>\n",
       "    <tr>\n",
       "      <th>Country or region</th>\n",
       "      <th></th>\n",
       "      <th></th>\n",
       "      <th></th>\n",
       "      <th></th>\n",
       "    </tr>\n",
       "  </thead>\n",
       "  <tbody>\n",
       "    <tr>\n",
       "      <th>Finland</th>\n",
       "      <td>1.340</td>\n",
       "      <td>1.587</td>\n",
       "      <td>0.986</td>\n",
       "      <td>0.596</td>\n",
       "    </tr>\n",
       "    <tr>\n",
       "      <th>Denmark</th>\n",
       "      <td>1.383</td>\n",
       "      <td>1.573</td>\n",
       "      <td>0.996</td>\n",
       "      <td>0.592</td>\n",
       "    </tr>\n",
       "    <tr>\n",
       "      <th>Norway</th>\n",
       "      <td>1.488</td>\n",
       "      <td>1.582</td>\n",
       "      <td>1.028</td>\n",
       "      <td>0.603</td>\n",
       "    </tr>\n",
       "    <tr>\n",
       "      <th>Iceland</th>\n",
       "      <td>1.380</td>\n",
       "      <td>1.624</td>\n",
       "      <td>1.026</td>\n",
       "      <td>0.591</td>\n",
       "    </tr>\n",
       "    <tr>\n",
       "      <th>Netherlands</th>\n",
       "      <td>1.396</td>\n",
       "      <td>1.522</td>\n",
       "      <td>0.999</td>\n",
       "      <td>0.557</td>\n",
       "    </tr>\n",
       "  </tbody>\n",
       "</table>\n",
       "</div>"
      ],
      "text/plain": [
       "                   GDP per capita  Social support  Healthy life expectancy  \\\n",
       "Country or region                                                            \n",
       "Finland                     1.340           1.587                    0.986   \n",
       "Denmark                     1.383           1.573                    0.996   \n",
       "Norway                      1.488           1.582                    1.028   \n",
       "Iceland                     1.380           1.624                    1.026   \n",
       "Netherlands                 1.396           1.522                    0.999   \n",
       "\n",
       "                   Freedom to make life choices  \n",
       "Country or region                                \n",
       "Finland                                   0.596  \n",
       "Denmark                                   0.592  \n",
       "Norway                                    0.603  \n",
       "Iceland                                   0.591  \n",
       "Netherlands                               0.557  "
      ]
     },
     "execution_count": 27,
     "metadata": {},
     "output_type": "execute_result"
    }
   ],
   "source": [
    "happiness_report.head()"
   ]
  },
  {
   "cell_type": "markdown",
   "id": "southern-insertion",
   "metadata": {},
   "source": [
    "### Task4.4: now let's join the two datasets we have prepared\n",
    "\n",
    "COVID19 Dataset :"
   ]
  },
  {
   "cell_type": "code",
   "execution_count": 28,
   "id": "featured-minnesota",
   "metadata": {},
   "outputs": [
    {
     "data": {
      "text/html": [
       "<div>\n",
       "<style scoped>\n",
       "    .dataframe tbody tr th:only-of-type {\n",
       "        vertical-align: middle;\n",
       "    }\n",
       "\n",
       "    .dataframe tbody tr th {\n",
       "        vertical-align: top;\n",
       "    }\n",
       "\n",
       "    .dataframe thead th {\n",
       "        text-align: right;\n",
       "    }\n",
       "</style>\n",
       "<table border=\"1\" class=\"dataframe\">\n",
       "  <thead>\n",
       "    <tr style=\"text-align: right;\">\n",
       "      <th></th>\n",
       "      <th>max_infection_rate</th>\n",
       "    </tr>\n",
       "    <tr>\n",
       "      <th>country_region</th>\n",
       "      <th></th>\n",
       "    </tr>\n",
       "  </thead>\n",
       "  <tbody>\n",
       "    <tr>\n",
       "      <th>Afghanistan</th>\n",
       "      <td>1485.0</td>\n",
       "    </tr>\n",
       "    <tr>\n",
       "      <th>Albania</th>\n",
       "      <td>1239.0</td>\n",
       "    </tr>\n",
       "    <tr>\n",
       "      <th>Algeria</th>\n",
       "      <td>1133.0</td>\n",
       "    </tr>\n",
       "    <tr>\n",
       "      <th>Andorra</th>\n",
       "      <td>299.0</td>\n",
       "    </tr>\n",
       "    <tr>\n",
       "      <th>Angola</th>\n",
       "      <td>355.0</td>\n",
       "    </tr>\n",
       "  </tbody>\n",
       "</table>\n",
       "</div>"
      ],
      "text/plain": [
       "                max_infection_rate\n",
       "country_region                    \n",
       "Afghanistan                 1485.0\n",
       "Albania                     1239.0\n",
       "Algeria                     1133.0\n",
       "Andorra                      299.0\n",
       "Angola                       355.0"
      ]
     },
     "execution_count": 28,
     "metadata": {},
     "output_type": "execute_result"
    }
   ],
   "source": [
    "covid_data.head()"
   ]
  },
  {
   "cell_type": "code",
   "execution_count": 29,
   "id": "modified-wallpaper",
   "metadata": {},
   "outputs": [
    {
     "data": {
      "text/plain": [
       "(192, 1)"
      ]
     },
     "execution_count": 29,
     "metadata": {},
     "output_type": "execute_result"
    }
   ],
   "source": [
    "covid_data.shape"
   ]
  },
  {
   "cell_type": "markdown",
   "id": "honey-earth",
   "metadata": {},
   "source": [
    "### World happiness report Dataset :"
   ]
  },
  {
   "cell_type": "code",
   "execution_count": 30,
   "id": "gothic-philadelphia",
   "metadata": {},
   "outputs": [
    {
     "data": {
      "text/html": [
       "<div>\n",
       "<style scoped>\n",
       "    .dataframe tbody tr th:only-of-type {\n",
       "        vertical-align: middle;\n",
       "    }\n",
       "\n",
       "    .dataframe tbody tr th {\n",
       "        vertical-align: top;\n",
       "    }\n",
       "\n",
       "    .dataframe thead th {\n",
       "        text-align: right;\n",
       "    }\n",
       "</style>\n",
       "<table border=\"1\" class=\"dataframe\">\n",
       "  <thead>\n",
       "    <tr style=\"text-align: right;\">\n",
       "      <th></th>\n",
       "      <th>GDP per capita</th>\n",
       "      <th>Social support</th>\n",
       "      <th>Healthy life expectancy</th>\n",
       "      <th>Freedom to make life choices</th>\n",
       "    </tr>\n",
       "    <tr>\n",
       "      <th>Country or region</th>\n",
       "      <th></th>\n",
       "      <th></th>\n",
       "      <th></th>\n",
       "      <th></th>\n",
       "    </tr>\n",
       "  </thead>\n",
       "  <tbody>\n",
       "    <tr>\n",
       "      <th>Finland</th>\n",
       "      <td>1.340</td>\n",
       "      <td>1.587</td>\n",
       "      <td>0.986</td>\n",
       "      <td>0.596</td>\n",
       "    </tr>\n",
       "    <tr>\n",
       "      <th>Denmark</th>\n",
       "      <td>1.383</td>\n",
       "      <td>1.573</td>\n",
       "      <td>0.996</td>\n",
       "      <td>0.592</td>\n",
       "    </tr>\n",
       "    <tr>\n",
       "      <th>Norway</th>\n",
       "      <td>1.488</td>\n",
       "      <td>1.582</td>\n",
       "      <td>1.028</td>\n",
       "      <td>0.603</td>\n",
       "    </tr>\n",
       "    <tr>\n",
       "      <th>Iceland</th>\n",
       "      <td>1.380</td>\n",
       "      <td>1.624</td>\n",
       "      <td>1.026</td>\n",
       "      <td>0.591</td>\n",
       "    </tr>\n",
       "    <tr>\n",
       "      <th>Netherlands</th>\n",
       "      <td>1.396</td>\n",
       "      <td>1.522</td>\n",
       "      <td>0.999</td>\n",
       "      <td>0.557</td>\n",
       "    </tr>\n",
       "  </tbody>\n",
       "</table>\n",
       "</div>"
      ],
      "text/plain": [
       "                   GDP per capita  Social support  Healthy life expectancy  \\\n",
       "Country or region                                                            \n",
       "Finland                     1.340           1.587                    0.986   \n",
       "Denmark                     1.383           1.573                    0.996   \n",
       "Norway                      1.488           1.582                    1.028   \n",
       "Iceland                     1.380           1.624                    1.026   \n",
       "Netherlands                 1.396           1.522                    0.999   \n",
       "\n",
       "                   Freedom to make life choices  \n",
       "Country or region                                \n",
       "Finland                                   0.596  \n",
       "Denmark                                   0.592  \n",
       "Norway                                    0.603  \n",
       "Iceland                                   0.591  \n",
       "Netherlands                               0.557  "
      ]
     },
     "execution_count": 30,
     "metadata": {},
     "output_type": "execute_result"
    }
   ],
   "source": [
    "happiness_report.head()"
   ]
  },
  {
   "cell_type": "code",
   "execution_count": 31,
   "id": "faced-livestock",
   "metadata": {},
   "outputs": [
    {
     "data": {
      "text/plain": [
       "(156, 4)"
      ]
     },
     "execution_count": 31,
     "metadata": {},
     "output_type": "execute_result"
    }
   ],
   "source": [
    "happiness_report.shape"
   ]
  },
  {
   "cell_type": "code",
   "execution_count": 32,
   "id": "fitted-faculty",
   "metadata": {},
   "outputs": [
    {
     "data": {
      "text/html": [
       "<div>\n",
       "<style scoped>\n",
       "    .dataframe tbody tr th:only-of-type {\n",
       "        vertical-align: middle;\n",
       "    }\n",
       "\n",
       "    .dataframe tbody tr th {\n",
       "        vertical-align: top;\n",
       "    }\n",
       "\n",
       "    .dataframe thead th {\n",
       "        text-align: right;\n",
       "    }\n",
       "</style>\n",
       "<table border=\"1\" class=\"dataframe\">\n",
       "  <thead>\n",
       "    <tr style=\"text-align: right;\">\n",
       "      <th></th>\n",
       "      <th>max_infection_rate</th>\n",
       "      <th>GDP per capita</th>\n",
       "      <th>Social support</th>\n",
       "      <th>Healthy life expectancy</th>\n",
       "      <th>Freedom to make life choices</th>\n",
       "    </tr>\n",
       "  </thead>\n",
       "  <tbody>\n",
       "    <tr>\n",
       "      <th>Afghanistan</th>\n",
       "      <td>1485.0</td>\n",
       "      <td>0.350</td>\n",
       "      <td>0.517</td>\n",
       "      <td>0.361</td>\n",
       "      <td>0.000</td>\n",
       "    </tr>\n",
       "    <tr>\n",
       "      <th>Albania</th>\n",
       "      <td>1239.0</td>\n",
       "      <td>0.947</td>\n",
       "      <td>0.848</td>\n",
       "      <td>0.874</td>\n",
       "      <td>0.383</td>\n",
       "    </tr>\n",
       "    <tr>\n",
       "      <th>Algeria</th>\n",
       "      <td>1133.0</td>\n",
       "      <td>1.002</td>\n",
       "      <td>1.160</td>\n",
       "      <td>0.785</td>\n",
       "      <td>0.086</td>\n",
       "    </tr>\n",
       "    <tr>\n",
       "      <th>Argentina</th>\n",
       "      <td>18326.0</td>\n",
       "      <td>1.092</td>\n",
       "      <td>1.432</td>\n",
       "      <td>0.881</td>\n",
       "      <td>0.471</td>\n",
       "    </tr>\n",
       "    <tr>\n",
       "      <th>Armenia</th>\n",
       "      <td>2476.0</td>\n",
       "      <td>0.850</td>\n",
       "      <td>1.055</td>\n",
       "      <td>0.815</td>\n",
       "      <td>0.283</td>\n",
       "    </tr>\n",
       "  </tbody>\n",
       "</table>\n",
       "</div>"
      ],
      "text/plain": [
       "             max_infection_rate  GDP per capita  Social support  \\\n",
       "Afghanistan              1485.0           0.350           0.517   \n",
       "Albania                  1239.0           0.947           0.848   \n",
       "Algeria                  1133.0           1.002           1.160   \n",
       "Argentina               18326.0           1.092           1.432   \n",
       "Armenia                  2476.0           0.850           1.055   \n",
       "\n",
       "             Healthy life expectancy  Freedom to make life choices  \n",
       "Afghanistan                    0.361                         0.000  \n",
       "Albania                        0.874                         0.383  \n",
       "Algeria                        0.785                         0.086  \n",
       "Argentina                      0.881                         0.471  \n",
       "Armenia                        0.815                         0.283  "
      ]
     },
     "execution_count": 32,
     "metadata": {},
     "output_type": "execute_result"
    }
   ],
   "source": [
    "data = covid_data.join(happiness_report, how=\"inner\")\n",
    "data.head()"
   ]
  },
  {
   "cell_type": "markdown",
   "id": "ranking-reset",
   "metadata": {},
   "source": [
    "### Task 4.5: correlation matrix"
   ]
  },
  {
   "cell_type": "code",
   "execution_count": 33,
   "id": "intellectual-approval",
   "metadata": {},
   "outputs": [
    {
     "data": {
      "text/html": [
       "<div>\n",
       "<style scoped>\n",
       "    .dataframe tbody tr th:only-of-type {\n",
       "        vertical-align: middle;\n",
       "    }\n",
       "\n",
       "    .dataframe tbody tr th {\n",
       "        vertical-align: top;\n",
       "    }\n",
       "\n",
       "    .dataframe thead th {\n",
       "        text-align: right;\n",
       "    }\n",
       "</style>\n",
       "<table border=\"1\" class=\"dataframe\">\n",
       "  <thead>\n",
       "    <tr style=\"text-align: right;\">\n",
       "      <th></th>\n",
       "      <th>max_infection_rate</th>\n",
       "      <th>GDP per capita</th>\n",
       "      <th>Social support</th>\n",
       "      <th>Healthy life expectancy</th>\n",
       "      <th>Freedom to make life choices</th>\n",
       "    </tr>\n",
       "  </thead>\n",
       "  <tbody>\n",
       "    <tr>\n",
       "      <th>max_infection_rate</th>\n",
       "      <td>1.000000</td>\n",
       "      <td>0.131329</td>\n",
       "      <td>0.097893</td>\n",
       "      <td>0.104415</td>\n",
       "      <td>-0.083823</td>\n",
       "    </tr>\n",
       "    <tr>\n",
       "      <th>GDP per capita</th>\n",
       "      <td>0.131329</td>\n",
       "      <td>1.000000</td>\n",
       "      <td>0.757521</td>\n",
       "      <td>0.859431</td>\n",
       "      <td>0.394799</td>\n",
       "    </tr>\n",
       "    <tr>\n",
       "      <th>Social support</th>\n",
       "      <td>0.097893</td>\n",
       "      <td>0.757521</td>\n",
       "      <td>1.000000</td>\n",
       "      <td>0.751632</td>\n",
       "      <td>0.456317</td>\n",
       "    </tr>\n",
       "    <tr>\n",
       "      <th>Healthy life expectancy</th>\n",
       "      <td>0.104415</td>\n",
       "      <td>0.859431</td>\n",
       "      <td>0.751632</td>\n",
       "      <td>1.000000</td>\n",
       "      <td>0.423146</td>\n",
       "    </tr>\n",
       "    <tr>\n",
       "      <th>Freedom to make life choices</th>\n",
       "      <td>-0.083823</td>\n",
       "      <td>0.394799</td>\n",
       "      <td>0.456317</td>\n",
       "      <td>0.423146</td>\n",
       "      <td>1.000000</td>\n",
       "    </tr>\n",
       "  </tbody>\n",
       "</table>\n",
       "</div>"
      ],
      "text/plain": [
       "                              max_infection_rate  GDP per capita  \\\n",
       "max_infection_rate                      1.000000        0.131329   \n",
       "GDP per capita                          0.131329        1.000000   \n",
       "Social support                          0.097893        0.757521   \n",
       "Healthy life expectancy                 0.104415        0.859431   \n",
       "Freedom to make life choices           -0.083823        0.394799   \n",
       "\n",
       "                              Social support  Healthy life expectancy  \\\n",
       "max_infection_rate                  0.097893                 0.104415   \n",
       "GDP per capita                      0.757521                 0.859431   \n",
       "Social support                      1.000000                 0.751632   \n",
       "Healthy life expectancy             0.751632                 1.000000   \n",
       "Freedom to make life choices        0.456317                 0.423146   \n",
       "\n",
       "                              Freedom to make life choices  \n",
       "max_infection_rate                               -0.083823  \n",
       "GDP per capita                                    0.394799  \n",
       "Social support                                    0.456317  \n",
       "Healthy life expectancy                           0.423146  \n",
       "Freedom to make life choices                      1.000000  "
      ]
     },
     "execution_count": 33,
     "metadata": {},
     "output_type": "execute_result"
    }
   ],
   "source": [
    "data.corr()"
   ]
  },
  {
   "cell_type": "markdown",
   "id": "actual-present",
   "metadata": {},
   "source": [
    "### Task 5: Visualization of the results\n",
    "\n",
    "Unfinished analysis until we visualize the results in terms figures and graphs"
   ]
  },
  {
   "cell_type": "code",
   "execution_count": 34,
   "id": "structured-terminology",
   "metadata": {},
   "outputs": [
    {
     "data": {
      "text/html": [
       "<div>\n",
       "<style scoped>\n",
       "    .dataframe tbody tr th:only-of-type {\n",
       "        vertical-align: middle;\n",
       "    }\n",
       "\n",
       "    .dataframe tbody tr th {\n",
       "        vertical-align: top;\n",
       "    }\n",
       "\n",
       "    .dataframe thead th {\n",
       "        text-align: right;\n",
       "    }\n",
       "</style>\n",
       "<table border=\"1\" class=\"dataframe\">\n",
       "  <thead>\n",
       "    <tr style=\"text-align: right;\">\n",
       "      <th></th>\n",
       "      <th>max_infection_rate</th>\n",
       "      <th>GDP per capita</th>\n",
       "      <th>Social support</th>\n",
       "      <th>Healthy life expectancy</th>\n",
       "      <th>Freedom to make life choices</th>\n",
       "    </tr>\n",
       "  </thead>\n",
       "  <tbody>\n",
       "    <tr>\n",
       "      <th>Afghanistan</th>\n",
       "      <td>1485.0</td>\n",
       "      <td>0.350</td>\n",
       "      <td>0.517</td>\n",
       "      <td>0.361</td>\n",
       "      <td>0.000</td>\n",
       "    </tr>\n",
       "    <tr>\n",
       "      <th>Albania</th>\n",
       "      <td>1239.0</td>\n",
       "      <td>0.947</td>\n",
       "      <td>0.848</td>\n",
       "      <td>0.874</td>\n",
       "      <td>0.383</td>\n",
       "    </tr>\n",
       "    <tr>\n",
       "      <th>Algeria</th>\n",
       "      <td>1133.0</td>\n",
       "      <td>1.002</td>\n",
       "      <td>1.160</td>\n",
       "      <td>0.785</td>\n",
       "      <td>0.086</td>\n",
       "    </tr>\n",
       "    <tr>\n",
       "      <th>Argentina</th>\n",
       "      <td>18326.0</td>\n",
       "      <td>1.092</td>\n",
       "      <td>1.432</td>\n",
       "      <td>0.881</td>\n",
       "      <td>0.471</td>\n",
       "    </tr>\n",
       "    <tr>\n",
       "      <th>Armenia</th>\n",
       "      <td>2476.0</td>\n",
       "      <td>0.850</td>\n",
       "      <td>1.055</td>\n",
       "      <td>0.815</td>\n",
       "      <td>0.283</td>\n",
       "    </tr>\n",
       "  </tbody>\n",
       "</table>\n",
       "</div>"
      ],
      "text/plain": [
       "             max_infection_rate  GDP per capita  Social support  \\\n",
       "Afghanistan              1485.0           0.350           0.517   \n",
       "Albania                  1239.0           0.947           0.848   \n",
       "Algeria                  1133.0           1.002           1.160   \n",
       "Argentina               18326.0           1.092           1.432   \n",
       "Armenia                  2476.0           0.850           1.055   \n",
       "\n",
       "             Healthy life expectancy  Freedom to make life choices  \n",
       "Afghanistan                    0.361                         0.000  \n",
       "Albania                        0.874                         0.383  \n",
       "Algeria                        0.785                         0.086  \n",
       "Argentina                      0.881                         0.471  \n",
       "Armenia                        0.815                         0.283  "
      ]
     },
     "execution_count": 34,
     "metadata": {},
     "output_type": "execute_result"
    }
   ],
   "source": [
    "data.head()"
   ]
  },
  {
   "cell_type": "markdown",
   "id": "charming-individual",
   "metadata": {},
   "source": [
    "### Task 5.1: Plotting GDP vs maximum Infection rate"
   ]
  },
  {
   "cell_type": "code",
   "execution_count": 35,
   "id": "absolute-lodging",
   "metadata": {
    "scrolled": true
   },
   "outputs": [
    {
     "name": "stderr",
     "output_type": "stream",
     "text": [
      "/opt/anaconda3/lib/python3.8/site-packages/seaborn/_decorators.py:36: FutureWarning: Pass the following variables as keyword args: x, y. From version 0.12, the only valid positional argument will be `data`, and passing other arguments without an explicit keyword will result in an error or misinterpretation.\n",
      "  warnings.warn(\n"
     ]
    },
    {
     "data": {
      "text/plain": [
       "<AxesSubplot:xlabel='GDP per capita', ylabel='max_infection_rate'>"
      ]
     },
     "execution_count": 35,
     "metadata": {},
     "output_type": "execute_result"
    },
    {
     "data": {
      "image/png": "[encoded data removed]",
      "text/plain": [
       "<Figure size 432x288 with 1 Axes>"
      ]
     },
     "metadata": {
      "needs_background": "light"
     },
     "output_type": "display_data"
    }
   ],
   "source": [
    "x = data[\"GDP per capita\"]\n",
    "y = data[\"max_infection_rate\"]\n",
    "sns.scatterplot(x, np.log(y))"
   ]
  },
  {
   "cell_type": "code",
   "execution_count": 36,
   "id": "prospective-papua",
   "metadata": {},
   "outputs": [
    {
     "name": "stderr",
     "output_type": "stream",
     "text": [
      "/opt/anaconda3/lib/python3.8/site-packages/seaborn/_decorators.py:36: FutureWarning: Pass the following variables as keyword args: x, y. From version 0.12, the only valid positional argument will be `data`, and passing other arguments without an explicit keyword will result in an error or misinterpretation.\n",
      "  warnings.warn(\n"
     ]
    },
    {
     "data": {
      "text/plain": [
       "<AxesSubplot:xlabel='GDP per capita', ylabel='max_infection_rate'>"
      ]
     },
     "execution_count": 36,
     "metadata": {},
     "output_type": "execute_result"
    },
    {
     "data": {
      "image/png": "[encoded data removed]",
      "text/plain": [
       "<Figure size 432x288 with 1 Axes>"
      ]
     },
     "metadata": {
      "needs_background": "light"
     },
     "output_type": "display_data"
    }
   ],
   "source": [
    "sns.regplot(x, np.log(y))"
   ]
  },
  {
   "cell_type": "markdown",
   "id": "stock-fighter",
   "metadata": {},
   "source": [
    "###  Task 5.2: Plotting Social support vs maximum Infection rate"
   ]
  },
  {
   "cell_type": "code",
   "execution_count": 37,
   "id": "trying-archives",
   "metadata": {},
   "outputs": [
    {
     "name": "stderr",
     "output_type": "stream",
     "text": [
      "/opt/anaconda3/lib/python3.8/site-packages/seaborn/_decorators.py:36: FutureWarning: Pass the following variables as keyword args: x, y. From version 0.12, the only valid positional argument will be `data`, and passing other arguments without an explicit keyword will result in an error or misinterpretation.\n",
      "  warnings.warn(\n"
     ]
    },
    {
     "data": {
      "text/plain": [
       "<AxesSubplot:xlabel='Social support', ylabel='max_infection_rate'>"
      ]
     },
     "execution_count": 37,
     "metadata": {},
     "output_type": "execute_result"
    },
    {
     "data": {
      "image/png": "[encoded data removed]",
      "text/plain": [
       "<Figure size 432x288 with 1 Axes>"
      ]
     },
     "metadata": {
      "needs_background": "light"
     },
     "output_type": "display_data"
    }
   ],
   "source": [
    "x = data[\"Social support\"]\n",
    "y = data[\"max_infection_rate\"]\n",
    "sns.scatterplot(x, np.log(y))"
   ]
  },
  {
   "cell_type": "code",
   "execution_count": 38,
   "id": "increasing-glucose",
   "metadata": {},
   "outputs": [
    {
     "name": "stderr",
     "output_type": "stream",
     "text": [
      "/opt/anaconda3/lib/python3.8/site-packages/seaborn/_decorators.py:36: FutureWarning: Pass the following variables as keyword args: x, y. From version 0.12, the only valid positional argument will be `data`, and passing other arguments without an explicit keyword will result in an error or misinterpretation.\n",
      "  warnings.warn(\n"
     ]
    },
    {
     "data": {
      "text/plain": [
       "<AxesSubplot:xlabel='Social support', ylabel='max_infection_rate'>"
      ]
     },
     "execution_count": 38,
     "metadata": {},
     "output_type": "execute_result"
    },
    {
     "data": {
      "image/png": "[encoded data removed]",
      "text/plain": [
       "<Figure size 432x288 with 1 Axes>"
      ]
     },
     "metadata": {
      "needs_background": "light"
     },
     "output_type": "display_data"
    }
   ],
   "source": [
    "sns.regplot(x, np.log(y))"
   ]
  },
  {
   "cell_type": "markdown",
   "id": "liked-canal",
   "metadata": {},
   "source": [
    "### Task 5.3: Plotting Healthy life expectancy vs maximum Infection rate"
   ]
  },
  {
   "cell_type": "code",
   "execution_count": 39,
   "id": "subsequent-aberdeen",
   "metadata": {},
   "outputs": [
    {
     "name": "stderr",
     "output_type": "stream",
     "text": [
      "/opt/anaconda3/lib/python3.8/site-packages/seaborn/_decorators.py:36: FutureWarning: Pass the following variables as keyword args: x, y. From version 0.12, the only valid positional argument will be `data`, and passing other arguments without an explicit keyword will result in an error or misinterpretation.\n",
      "  warnings.warn(\n"
     ]
    },
    {
     "data": {
      "text/plain": [
       "<AxesSubplot:xlabel='Healthy life expectancy', ylabel='max_infection_rate'>"
      ]
     },
     "execution_count": 39,
     "metadata": {},
     "output_type": "execute_result"
    },
    {
     "data": {
      "image/png": "[encoded data removed]",
      "text/plain": [
       "<Figure size 432x288 with 1 Axes>"
      ]
     },
     "metadata": {
      "needs_background": "light"
     },
     "output_type": "display_data"
    }
   ],
   "source": [
    "x = data[\"Healthy life expectancy\"]\n",
    "y = data[\"max_infection_rate\"]\n",
    "sns.scatterplot(x, np.log(y))"
   ]
  },
  {
   "cell_type": "code",
   "execution_count": 40,
   "id": "falling-winner",
   "metadata": {},
   "outputs": [
    {
     "name": "stderr",
     "output_type": "stream",
     "text": [
      "/opt/anaconda3/lib/python3.8/site-packages/seaborn/_decorators.py:36: FutureWarning: Pass the following variables as keyword args: x, y. From version 0.12, the only valid positional argument will be `data`, and passing other arguments without an explicit keyword will result in an error or misinterpretation.\n",
      "  warnings.warn(\n"
     ]
    },
    {
     "data": {
      "text/plain": [
       "<AxesSubplot:xlabel='Healthy life expectancy', ylabel='max_infection_rate'>"
      ]
     },
     "execution_count": 40,
     "metadata": {},
     "output_type": "execute_result"
    },
    {
     "data": {
      "image/png": "[encoded data removed]",
      "text/plain": [
       "<Figure size 432x288 with 1 Axes>"
      ]
     },
     "metadata": {
      "needs_background": "light"
     },
     "output_type": "display_data"
    }
   ],
   "source": [
    "sns.regplot(x, np.log(y))"
   ]
  },
  {
   "cell_type": "markdown",
   "id": "returning-apartment",
   "metadata": {},
   "source": [
    "### Task 5.4: Plotting Freedom to make life choices vs maximum Infection rate"
   ]
  },
  {
   "cell_type": "code",
   "execution_count": 41,
   "id": "tender-sally",
   "metadata": {},
   "outputs": [
    {
     "name": "stderr",
     "output_type": "stream",
     "text": [
      "/opt/anaconda3/lib/python3.8/site-packages/seaborn/_decorators.py:36: FutureWarning: Pass the following variables as keyword args: x, y. From version 0.12, the only valid positional argument will be `data`, and passing other arguments without an explicit keyword will result in an error or misinterpretation.\n",
      "  warnings.warn(\n"
     ]
    },
    {
     "data": {
      "text/plain": [
       "<AxesSubplot:xlabel='Freedom to make life choices', ylabel='max_infection_rate'>"
      ]
     },
     "execution_count": 41,
     "metadata": {},
     "output_type": "execute_result"
    },
    {
     "data": {
      "image/png": "[encoded data removed]",
      "text/plain": [
       "<Figure size 432x288 with 1 Axes>"
      ]
     },
     "metadata": {
      "needs_background": "light"
     },
     "output_type": "display_data"
    }
   ],
   "source": [
    "x = data[\"Freedom to make life choices\"]\n",
    "y = data[\"max_infection_rate\"]\n",
    "sns.scatterplot(x, np.log(y))"
   ]
  },
  {
   "cell_type": "code",
   "execution_count": 42,
   "id": "young-pencil",
   "metadata": {},
   "outputs": [
    {
     "name": "stderr",
     "output_type": "stream",
     "text": [
      "/opt/anaconda3/lib/python3.8/site-packages/seaborn/_decorators.py:36: FutureWarning: Pass the following variables as keyword args: x, y. From version 0.12, the only valid positional argument will be `data`, and passing other arguments without an explicit keyword will result in an error or misinterpretation.\n",
      "  warnings.warn(\n"
     ]
    },
    {
     "data": {
      "text/plain": [
       "<AxesSubplot:xlabel='Freedom to make life choices', ylabel='max_infection_rate'>"
      ]
     },
     "execution_count": 42,
     "metadata": {},
     "output_type": "execute_result"
    },
    {
     "data": {
      "image/png": "[encoded data removed]",
      "text/plain": [
       "<Figure size 432x288 with 1 Axes>"
      ]
     },
     "metadata": {
      "needs_background": "light"
     },
     "output_type": "display_data"
    }
   ],
   "source": [
    "sns.regplot(x, np.log(y))"
   ]
  },
  {
   "cell_type": "code",
   "execution_count": null,
   "id": "molecular-filling",
   "metadata": {},
   "outputs": [],
   "source": []
  }
 ],
 "metadata": {
  "kernelspec": {
   "display_name": "Python 3",
   "language": "python",
   "name": "python3"
  },
  "language_info": {
   "codemirror_mode": {
    "name": "ipython",
    "version": 3
   },
   "file_extension": ".py",
   "mimetype": "text/x-python",
   "name": "python",
   "nbconvert_exporter": "python",
   "pygments_lexer": "ipython3",
   "version": "3.8.5"
  }
 },
 "nbformat": 4,
 "nbformat_minor": 5
}
